{
 "cells": [
  {
   "cell_type": "markdown",
   "metadata": {},
   "source": [
    "### Processing BMR (data only 2008 - 2015)\n",
    "\n",
    "### Sanittawan Tan"
   ]
  },
  {
   "cell_type": "code",
   "execution_count": 1,
   "metadata": {},
   "outputs": [],
   "source": [
    "import pandas as pd\n",
    "import numpy as np"
   ]
  },
  {
   "cell_type": "code",
   "execution_count": 2,
   "metadata": {},
   "outputs": [],
   "source": [
    "YEAR = 2005"
   ]
  },
  {
   "cell_type": "code",
   "execution_count": 3,
   "metadata": {},
   "outputs": [],
   "source": [
    "bmr = pd.read_csv('./democracy-v3.0.csv', dtype={'year': 'Int64'})"
   ]
  },
  {
   "cell_type": "code",
   "execution_count": 4,
   "metadata": {},
   "outputs": [],
   "source": [
    "bmr = bmr.drop(bmr[bmr['year'] < YEAR].index)"
   ]
  },
  {
   "cell_type": "code",
   "execution_count": 5,
   "metadata": {},
   "outputs": [],
   "source": [
    "bmr = bmr.drop(columns=['ccode', 'abbreviation', 'abbreviation_undp', 'democracy_omitteddata', 'democracy_femalesuffrage'], axis=1)"
   ]
  },
  {
   "cell_type": "code",
   "execution_count": 6,
   "metadata": {},
   "outputs": [],
   "source": [
    "bmr['country'] = bmr['country'].apply(lambda x: x.lower().strip())"
   ]
  },
  {
   "cell_type": "code",
   "execution_count": 7,
   "metadata": {},
   "outputs": [],
   "source": [
    "bmr['country'].replace({'united states of america': 'united states'}, inplace=True)"
   ]
  },
  {
   "cell_type": "code",
   "execution_count": 8,
   "metadata": {},
   "outputs": [
    {
     "data": {
      "text/plain": [
       "197"
      ]
     },
     "execution_count": 8,
     "metadata": {},
     "output_type": "execute_result"
    }
   ],
   "source": [
    "len(bmr.country.unique())"
   ]
  },
  {
   "cell_type": "code",
   "execution_count": 9,
   "metadata": {},
   "outputs": [
    {
     "data": {
      "text/plain": [
       "array(['united states', 'canada', 'bahamas', 'cuba', 'haiti',\n",
       "       'dominican republic', 'jamaica', 'trinidad & tobago', 'barbados',\n",
       "       'dominica', 'grenada', 'st. lucia', 'st. vincent & gren.',\n",
       "       'antigua', 'st. kitts & nevis', 'mexico', 'belize', 'guatemala',\n",
       "       'honduras', 'el salvador', 'nicaragua', 'costa rica', 'panama',\n",
       "       'colombia', 'venezuela', 'guyana', 'suriname', 'ecuador', 'peru',\n",
       "       'brazil', 'bolivia', 'paraguay', 'chile', 'argentina', 'uruguay',\n",
       "       'united kingdom', 'ireland', 'netherlands', 'belgium',\n",
       "       'luxembourg', 'france', 'monaco', 'liechstenstein', 'switzerland',\n",
       "       'spain', 'andorra', 'portugal', 'germany', 'poland', 'austria',\n",
       "       'hungary', 'czech republic', 'slovakia', 'italy', 'san marino',\n",
       "       'malta', 'albania', 'kosovo', 'serbia', 'macedonia', 'croatia',\n",
       "       'bosnia', 'yugoslavia, fed. rep.', 'montenegro', 'slovenia',\n",
       "       'greece', 'cyprus', 'bulgaria', 'moldova', 'romania', 'russia',\n",
       "       'estonia', 'latvia', 'lithuania', 'ukraine', 'belarus', 'armenia',\n",
       "       'georgia', 'azerbaijan', 'finland', 'sweden', 'norway', 'denmark',\n",
       "       'iceland', 'cape verde', 'sao tome & principe', 'guinea-bissau',\n",
       "       'equatorial guinea', 'gambia', 'mali', 'senegal', 'benin',\n",
       "       'mauritania', 'niger', \"cote d'ivoire\", 'guinea', 'burkina faso',\n",
       "       'liberia', 'sierra leone', 'ghana', 'togo', 'cameroon', 'nigeria',\n",
       "       'gabon', 'central african rep.', 'chad', 'congo, rep.',\n",
       "       'congo, dem. rep.', 'uganda', 'kenya', 'tanzania', 'burundi',\n",
       "       'rwanda', 'somalia', 'djibouti', 'ethiopia', 'eritrea', 'angola',\n",
       "       'mozambique', 'zambia', 'zimbabwe', 'malawi', 'south africa',\n",
       "       'namibia', 'lesotho', 'botswana', 'swaziland', 'madagascar',\n",
       "       'comoros', 'mauritius', 'seychelles', 'morocco', 'algeria',\n",
       "       'tunisia', 'libya', 'sudan, north', 'sudan', 'sudan, south',\n",
       "       'iran', 'turkey', 'iraq', 'egypt', 'syria', 'lebanon', 'jordan',\n",
       "       'israel', 'saudi arabia', 'yemen', 'kuwait', 'bahrain', 'qatar',\n",
       "       'united arab emirates', 'oman', 'afghanistan', 'turkmenistan',\n",
       "       'tajikistan', 'kyrgyzstan', 'uzbekistan', 'kazakhstan', 'china',\n",
       "       'mongolia', 'taiwan', 'korea, north', 'korea, south', 'japan',\n",
       "       'india', 'bhutan', 'pakistan', 'bangladesh', 'myanmar',\n",
       "       'sri lanka', 'maldives', 'nepal', 'thailand', 'cambodia', 'laos',\n",
       "       'vietnam', 'malaysia', 'singapore', 'brunei', 'philippines',\n",
       "       'indonesia', 'east timor', 'australia', 'papua new guinea',\n",
       "       'new zealand', 'vanuatu', 'solomon islands', 'kiribati', 'tuvalu',\n",
       "       'fiji', 'tonga', 'nauru', 'marshall islands', 'palau',\n",
       "       'micronesia, fed.', 'samoa (western)'], dtype=object)"
      ]
     },
     "execution_count": 9,
     "metadata": {},
     "output_type": "execute_result"
    }
   ],
   "source": [
    "bmr.country.unique()"
   ]
  },
  {
   "cell_type": "code",
   "execution_count": 10,
   "metadata": {},
   "outputs": [],
   "source": [
    "bmr.to_csv('./cleaned_BMR.csv', index=False)"
   ]
  },
  {
   "cell_type": "code",
   "execution_count": null,
   "metadata": {},
   "outputs": [],
   "source": []
  }
 ],
 "metadata": {
  "kernelspec": {
   "display_name": "Python 3",
   "language": "python",
   "name": "python3"
  },
  "language_info": {
   "codemirror_mode": {
    "name": "ipython",
    "version": 3
   },
   "file_extension": ".py",
   "mimetype": "text/x-python",
   "name": "python",
   "nbconvert_exporter": "python",
   "pygments_lexer": "ipython3",
   "version": "3.6.8"
  }
 },
 "nbformat": 4,
 "nbformat_minor": 2
}
