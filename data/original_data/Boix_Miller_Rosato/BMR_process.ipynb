{
 "cells": [
  {
   "cell_type": "markdown",
   "metadata": {},
   "source": [
    "### Processing BMR (data only 2008 - 2015)\n",
    "\n",
    "### Sanittawan Tan"
   ]
  },
  {
   "cell_type": "code",
   "execution_count": 17,
   "metadata": {},
   "outputs": [],
   "source": [
    "import pandas as pd\n",
    "import numpy as np"
   ]
  },
  {
   "cell_type": "code",
   "execution_count": 18,
   "metadata": {},
   "outputs": [],
   "source": [
    "bmr = pd.read_csv('./democracy-v3.0.csv', dtype={'year': 'Int64'})"
   ]
  },
  {
   "cell_type": "code",
   "execution_count": 20,
   "metadata": {},
   "outputs": [],
   "source": [
    "bmr = bmr.drop(bmr[bmr['year'] < 2008].index)"
   ]
  },
  {
   "cell_type": "code",
   "execution_count": 21,
   "metadata": {},
   "outputs": [],
   "source": [
    "bmr = bmr.drop(columns=['ccode', 'abbreviation', 'abbreviation_undp', 'democracy_omitteddata', 'democracy_femalesuffrage'], axis=1)"
   ]
  },
  {
   "cell_type": "code",
   "execution_count": 22,
   "metadata": {},
   "outputs": [],
   "source": [
    "bmr['country'] = bmr['country'].apply(lambda x: x.lower().strip())"
   ]
  },
  {
   "cell_type": "code",
   "execution_count": 23,
   "metadata": {},
   "outputs": [],
   "source": [
    "bmr['country'].replace({'united states of america': 'united states'}, inplace=True)"
   ]
  },
  {
   "cell_type": "code",
   "execution_count": 27,
   "metadata": {},
   "outputs": [
    {
     "data": {
      "text/plain": [
       "196"
      ]
     },
     "execution_count": 27,
     "metadata": {},
     "output_type": "execute_result"
    }
   ],
   "source": [
    "len(bmr.country.unique())"
   ]
  },
  {
   "cell_type": "code",
   "execution_count": 28,
   "metadata": {},
   "outputs": [
    {
     "data": {
      "text/plain": [
       "array(['united states', 'canada', 'bahamas', 'cuba', 'haiti',\n",
       "       'dominican republic', 'jamaica', 'trinidad & tobago', 'barbados',\n",
       "       'dominica', 'grenada', 'st. lucia', 'st. vincent & gren.',\n",
       "       'antigua', 'st. kitts & nevis', 'mexico', 'belize', 'guatemala',\n",
       "       'honduras', 'el salvador', 'nicaragua', 'costa rica', 'panama',\n",
       "       'colombia', 'venezuela', 'guyana', 'suriname', 'ecuador', 'peru',\n",
       "       'brazil', 'bolivia', 'paraguay', 'chile', 'argentina', 'uruguay',\n",
       "       'united kingdom', 'ireland', 'netherlands', 'belgium',\n",
       "       'luxembourg', 'france', 'monaco', 'liechstenstein', 'switzerland',\n",
       "       'spain', 'andorra', 'portugal', 'germany', 'poland', 'austria',\n",
       "       'hungary', 'czech republic', 'slovakia', 'italy', 'san marino',\n",
       "       'malta', 'albania', 'kosovo', 'serbia', 'macedonia', 'croatia',\n",
       "       'bosnia', 'montenegro', 'slovenia', 'greece', 'cyprus', 'bulgaria',\n",
       "       'moldova', 'romania', 'russia', 'estonia', 'latvia', 'lithuania',\n",
       "       'ukraine', 'belarus', 'armenia', 'georgia', 'azerbaijan',\n",
       "       'finland', 'sweden', 'norway', 'denmark', 'iceland', 'cape verde',\n",
       "       'sao tome & principe', 'guinea-bissau', 'equatorial guinea',\n",
       "       'gambia', 'mali', 'senegal', 'benin', 'mauritania', 'niger',\n",
       "       \"cote d'ivoire\", 'guinea', 'burkina faso', 'liberia',\n",
       "       'sierra leone', 'ghana', 'togo', 'cameroon', 'nigeria', 'gabon',\n",
       "       'central african rep.', 'chad', 'congo, rep.', 'congo, dem. rep.',\n",
       "       'uganda', 'kenya', 'tanzania', 'burundi', 'rwanda', 'somalia',\n",
       "       'djibouti', 'ethiopia', 'eritrea', 'angola', 'mozambique',\n",
       "       'zambia', 'zimbabwe', 'malawi', 'south africa', 'namibia',\n",
       "       'lesotho', 'botswana', 'swaziland', 'madagascar', 'comoros',\n",
       "       'mauritius', 'seychelles', 'morocco', 'algeria', 'tunisia',\n",
       "       'libya', 'sudan, north', 'sudan', 'sudan, south', 'iran', 'turkey',\n",
       "       'iraq', 'egypt', 'syria', 'lebanon', 'jordan', 'israel',\n",
       "       'saudi arabia', 'yemen', 'kuwait', 'bahrain', 'qatar',\n",
       "       'united arab emirates', 'oman', 'afghanistan', 'turkmenistan',\n",
       "       'tajikistan', 'kyrgyzstan', 'uzbekistan', 'kazakhstan', 'china',\n",
       "       'mongolia', 'taiwan', 'korea, north', 'korea, south', 'japan',\n",
       "       'india', 'bhutan', 'pakistan', 'bangladesh', 'myanmar',\n",
       "       'sri lanka', 'maldives', 'nepal', 'thailand', 'cambodia', 'laos',\n",
       "       'vietnam', 'malaysia', 'singapore', 'brunei', 'philippines',\n",
       "       'indonesia', 'east timor', 'australia', 'papua new guinea',\n",
       "       'new zealand', 'vanuatu', 'solomon islands', 'kiribati', 'tuvalu',\n",
       "       'fiji', 'tonga', 'nauru', 'marshall islands', 'palau',\n",
       "       'micronesia, fed.', 'samoa (western)'], dtype=object)"
      ]
     },
     "execution_count": 28,
     "metadata": {},
     "output_type": "execute_result"
    }
   ],
   "source": [
    "bmr.country.unique()"
   ]
  },
  {
   "cell_type": "code",
   "execution_count": 29,
   "metadata": {},
   "outputs": [],
   "source": [
    "bmr.to_csv('./cleaned_BMR.csv', index=False)"
   ]
  },
  {
   "cell_type": "code",
   "execution_count": null,
   "metadata": {},
   "outputs": [],
   "source": []
  }
 ],
 "metadata": {
  "kernelspec": {
   "display_name": "Python 3",
   "language": "python",
   "name": "python3"
  },
  "language_info": {
   "codemirror_mode": {
    "name": "ipython",
    "version": 3
   },
   "file_extension": ".py",
   "mimetype": "text/x-python",
   "name": "python",
   "nbconvert_exporter": "python",
   "pygments_lexer": "ipython3",
   "version": "3.6.8"
  }
 },
 "nbformat": 4,
 "nbformat_minor": 2
}
