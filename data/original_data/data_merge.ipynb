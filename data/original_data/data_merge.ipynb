{
 "cells": [
  {
   "cell_type": "markdown",
   "metadata": {},
   "source": [
    "### Code for joining datasets (BMR, FH, VDEM)\n",
    "\n",
    "### Sanittawan Tan"
   ]
  },
  {
   "cell_type": "code",
   "execution_count": 1,
   "metadata": {},
   "outputs": [],
   "source": [
    "import pandas as pd\n",
    "import numpy as np"
   ]
  },
  {
   "cell_type": "code",
   "execution_count": null,
   "metadata": {},
   "outputs": [],
   "source": [
    "# check for country name discrepancies\n"
   ]
  },
  {
   "cell_type": "code",
   "execution_count": 2,
   "metadata": {},
   "outputs": [],
   "source": [
    "country_FH = ['afghanistan', 'albania', 'algeria', 'andorra', 'angola',\n",
    "       'antigua and barbuda', 'argentina', 'armenia', 'australia',\n",
    "       'austria', 'azerbaijan', 'bahamas', 'bahrain', 'bangladesh',\n",
    "       'barbados', 'belarus', 'belgium', 'belize', 'benin', 'bhutan',\n",
    "       'bolivia', 'bosnia and herzegovina', 'botswana', 'brazil',\n",
    "       'brunei', 'bulgaria', 'burkina faso', 'burundi', 'cambodia',\n",
    "       'cameroon', 'canada', 'cape verde', 'central african republic',\n",
    "       'chad', 'chile', 'china', 'colombia', 'comoros',\n",
    "       'congo (brazzaville)', 'congo (kinshasa)', 'costa rica',\n",
    "       \"cote d'ivoire\", 'croatia', 'cuba', 'cyprus', 'czech republic',\n",
    "       'denmark', 'djibouti', 'dominica', 'dominican republic', 'ecuador',\n",
    "       'egypt', 'el salvador', 'equatorial guinea', 'eritrea', 'estonia',\n",
    "       'ethiopia', 'fiji', 'finland', 'france', 'gabon', 'georgia',\n",
    "       'germany', 'ghana', 'greece', 'grenada', 'guatemala', 'guinea',\n",
    "       'guinea-bissau', 'guyana', 'haiti', 'honduras', 'hungary',\n",
    "       'iceland', 'india', 'indonesia', 'iran', 'iraq', 'ireland',\n",
    "       'israel', 'italy', 'jamaica', 'japan', 'jordan', 'kazakhstan',\n",
    "       'kenya', 'kiribati', 'kosovo', 'kuwait', 'kyrgyzstan', 'laos',\n",
    "       'latvia', 'lebanon', 'lesotho', 'liberia', 'libya',\n",
    "       'liechtenstein', 'lithuania', 'luxembourg', 'macedonia',\n",
    "       'madagascar', 'malawi', 'malaysia', 'maldives', 'mali', 'malta',\n",
    "       'marshall islands', 'mauritania', 'mauritius', 'mexico',\n",
    "       'micronesia', 'moldova', 'monaco', 'mongolia', 'montenegro',\n",
    "       'morocco', 'mozambique', 'myanmar', 'namibia', 'nauru', 'nepal',\n",
    "       'netherlands', 'new zealand', 'nicaragua', 'niger', 'nigeria',\n",
    "       'north korea', 'norway', 'oman', 'pakistan', 'palau', 'panama',\n",
    "       'papua new guinea', 'paraguay', 'peru', 'philippines', 'poland',\n",
    "       'portugal', 'qatar', 'romania', 'russia', 'rwanda', 'samoa',\n",
    "       'san marino', 'sao tome and principe', 'saudi arabia', 'senegal',\n",
    "       'serbia', 'seychelles', 'sierra leone', 'singapore', 'slovakia',\n",
    "       'slovenia', 'solomon islands', 'somalia', 'south africa',\n",
    "       'south korea', 'south sudan', 'spain', 'sri lanka',\n",
    "       'st. kitts and nevis', 'st. lucia',\n",
    "       'st. vincent and the grenadines', 'sudan', 'suriname', 'swaziland',\n",
    "       'sweden', 'switzerland', 'syria', 'taiwan', 'tajikistan',\n",
    "       'tanzania', 'thailand', 'the gambia', 'timor-leste', 'togo',\n",
    "       'tonga', 'trinidad and tobago', 'tunisia', 'turkey',\n",
    "       'turkmenistan', 'tuvalu', 'uganda', 'ukraine',\n",
    "       'united arab emirates', 'united kingdom', 'united states',\n",
    "       'uruguay', 'uzbekistan', 'vanuatu', 'venezuela', 'vietnam',\n",
    "       'yemen', 'zambia', 'zimbabwe'\n",
    "\n",
    "]\n",
    "## BMR\n",
    "country_BMR = [\n",
    "'united states', 'canada', 'bahamas', 'cuba', 'haiti',\n",
    "'dominican republic', 'jamaica', 'trinidad & tobago', 'barbados',\n",
    "'dominica', 'grenada', 'st. lucia', 'st. vincent & gren.',\n",
    "'antigua', 'st. kitts & nevis', 'mexico', 'belize', 'guatemala',\n",
    "'honduras', 'el salvador', 'nicaragua', 'costa rica', 'panama',\n",
    "'colombia', 'venezuela', 'guyana', 'suriname', 'ecuador', 'peru',\n",
    "'brazil', 'bolivia', 'paraguay', 'chile', 'argentina', 'uruguay',\n",
    "'united kingdom', 'ireland', 'netherlands', 'belgium',\n",
    "'luxembourg', 'france', 'monaco', 'liechstenstein', 'switzerland',\n",
    "'spain', 'andorra', 'portugal', 'germany', 'poland', 'austria',\n",
    "'hungary', 'czech republic', 'slovakia', 'italy', 'san marino',\n",
    "'malta', 'albania', 'kosovo', 'serbia', 'macedonia', 'croatia',\n",
    "'bosnia', 'montenegro', 'slovenia', 'greece', 'cyprus', 'bulgaria',\n",
    "'moldova', 'romania', 'russia', 'estonia', 'latvia', 'lithuania',\n",
    "'ukraine', 'belarus', 'armenia', 'georgia', 'azerbaijan',\n",
    "'finland', 'sweden', 'norway', 'denmark', 'iceland', 'cape verde',\n",
    "'sao tome & principe', 'guinea-bissau', 'equatorial guinea',\n",
    "'gambia', 'mali', 'senegal', 'benin', 'mauritania', 'niger',\n",
    "\"cote d'ivoire\", 'guinea', 'burkina faso', 'liberia',\n",
    "'sierra leone', 'ghana', 'togo', 'cameroon', 'nigeria', 'gabon',\n",
    "'central african rep.', 'chad', 'congo, rep.', 'congo, dem. rep.',\n",
    "'uganda', 'kenya', 'tanzania', 'burundi', 'rwanda', 'somalia',\n",
    "'djibouti', 'ethiopia', 'eritrea', 'angola', 'mozambique',\n",
    "'zambia', 'zimbabwe', 'malawi', 'south africa', 'namibia',\n",
    "'lesotho', 'botswana', 'swaziland', 'madagascar', 'comoros',\n",
    "'mauritius', 'seychelles', 'morocco', 'algeria', 'tunisia',\n",
    "'libya', 'sudan, north', 'sudan', 'sudan, south', 'iran', 'turkey',\n",
    "'iraq', 'egypt', 'syria', 'lebanon', 'jordan', 'israel',\n",
    "'saudi arabia', 'yemen', 'kuwait', 'bahrain', 'qatar',\n",
    "'united arab emirates', 'oman', 'afghanistan', 'turkmenistan',\n",
    "'tajikistan', 'kyrgyzstan', 'uzbekistan', 'kazakhstan', 'china',\n",
    "'mongolia', 'taiwan', 'korea, north', 'korea, south', 'japan',\n",
    "'india', 'bhutan', 'pakistan', 'bangladesh', 'myanmar',\n",
    "'sri lanka', 'maldives', 'nepal', 'thailand', 'cambodia', 'laos',\n",
    "'vietnam', 'malaysia', 'singapore', 'brunei', 'philippines',\n",
    "'indonesia', 'east timor', 'australia', 'papua new guinea',\n",
    "'new zealand', 'vanuatu', 'solomon islands', 'kiribati', 'tuvalu',\n",
    "'fiji', 'tonga', 'nauru', 'marshall islands', 'palau',\n",
    "'micronesia, fed.', 'samoa (western)'\n",
    "]\n",
    "\n",
    "## VDEM\n",
    "country_VDEM = [\n",
    "'afghanistan', 'angola', 'albania', 'united arab emirates',\n",
    "       'argentina', 'armenia', 'australia', 'austria', 'azerbaijan',\n",
    "       'burundi', 'belgium', 'benin', 'burkina faso', 'bangladesh',\n",
    "       'bulgaria', 'bahrain', 'bosnia and herzegovina', 'belarus',\n",
    "       'bolivia', 'brazil', 'barbados', 'bhutan', 'botswana',\n",
    "       'central african republic', 'canada', 'switzerland', 'chile',\n",
    "       'china', 'ivory coast', 'cameroon',\n",
    "       'democratic republic of the congo', 'republic of the congo',\n",
    "       'colombia', 'comoros', 'cape verde', 'costa rica', 'cuba',\n",
    "       'cyprus', 'czech republic', 'germany', 'djibouti', 'denmark',\n",
    "       'dominican republic', 'algeria', 'ecuador', 'egypt', 'eritrea',\n",
    "       'spain', 'estonia', 'ethiopia', 'finland', 'fiji', 'france',\n",
    "       'gabon', 'united kingdom', 'georgia', 'ghana', 'guinea',\n",
    "       'the gambia', 'guinea-bissau', 'equatorial guinea', 'greece',\n",
    "       'guatemala', 'guyana', 'hong kong', 'honduras', 'croatia', 'haiti',\n",
    "       'hungary', 'indonesia', 'india', 'ireland', 'iran', 'iraq',\n",
    "       'iceland', 'israel', 'italy', 'jamaica', 'jordan', 'japan',\n",
    "       'kazakhstan', 'kenya', 'kyrgyzstan', 'cambodia', 'south korea',\n",
    "       'kuwait', 'laos', 'lebanon', 'liberia', 'libya', 'sri lanka',\n",
    "       'lesotho', 'lithuania', 'luxembourg', 'latvia', 'morocco',\n",
    "       'moldova', 'madagascar', 'maldives', 'mexico', 'macedonia', 'mali',\n",
    "       'malta', 'burma/myanmar', 'montenegro', 'mongolia', 'mozambique',\n",
    "       'mauritania', 'mauritius', 'malawi', 'malaysia', 'namibia',\n",
    "       'niger', 'nigeria', 'nicaragua', 'netherlands', 'norway', 'nepal',\n",
    "       'new zealand', 'oman', 'pakistan', 'panama', 'peru', 'philippines',\n",
    "       'papua new guinea', 'poland', 'north korea', 'portugal',\n",
    "       'paraguay', 'palestine/west bank', 'palestine/gaza', 'qatar',\n",
    "       'romania', 'russia', 'rwanda', 'saudi arabia', 'sudan', 'senegal',\n",
    "       'singapore', 'solomon islands', 'sierra leone', 'el salvador',\n",
    "       'somaliland', 'somalia', 'serbia', 'south sudan',\n",
    "       'sao tome and principe', 'suriname', 'slovakia', 'slovenia',\n",
    "       'sweden', 'swaziland', 'seychelles', 'syria', 'chad', 'togo',\n",
    "       'thailand', 'tajikistan', 'turkmenistan', 'timor-leste',\n",
    "       'trinidad and tobago', 'tunisia', 'turkey', 'taiwan', 'tanzania',\n",
    "       'uganda', 'ukraine', 'uruguay', 'united states of america',\n",
    "       'uzbekistan', 'venezuela', 'vietnam', 'vanuatu', 'kosovo', 'yemen',\n",
    "       'south africa', 'zambia', 'zimbabwe', 'zanzibar'\n",
    "]\n"
   ]
  },
  {
   "cell_type": "code",
   "execution_count": 3,
   "metadata": {},
   "outputs": [],
   "source": [
    "FH_set = set(country_FH)\n",
    "BMR_set = set(country_BMR)\n",
    "VDEM_set = set(country_VDEM)"
   ]
  },
  {
   "cell_type": "code",
   "execution_count": 6,
   "metadata": {},
   "outputs": [
    {
     "data": {
      "text/plain": [
       "{'antigua and barbuda',\n",
       " 'bosnia and herzegovina',\n",
       " 'central african republic',\n",
       " 'congo (brazzaville)',\n",
       " 'congo (kinshasa)',\n",
       " 'liechtenstein',\n",
       " 'micronesia',\n",
       " 'north korea',\n",
       " 'samoa',\n",
       " 'sao tome and principe',\n",
       " 'south korea',\n",
       " 'south sudan',\n",
       " 'st. kitts and nevis',\n",
       " 'st. vincent and the grenadines',\n",
       " 'the gambia',\n",
       " 'timor-leste',\n",
       " 'trinidad and tobago'}"
      ]
     },
     "execution_count": 6,
     "metadata": {},
     "output_type": "execute_result"
    }
   ],
   "source": [
    "FH_BMR = FH_set - BMR_set\n",
    "FH_BMR"
   ]
  },
  {
   "cell_type": "code",
   "execution_count": 7,
   "metadata": {},
   "outputs": [
    {
     "data": {
      "text/plain": [
       "{'antigua',\n",
       " 'bosnia',\n",
       " 'central african rep.',\n",
       " 'congo, dem. rep.',\n",
       " 'congo, rep.',\n",
       " 'east timor',\n",
       " 'gambia',\n",
       " 'korea, north',\n",
       " 'korea, south',\n",
       " 'liechstenstein',\n",
       " 'micronesia, fed.',\n",
       " 'samoa (western)',\n",
       " 'sao tome & principe',\n",
       " 'st. kitts & nevis',\n",
       " 'st. vincent & gren.',\n",
       " 'sudan, north',\n",
       " 'sudan, south',\n",
       " 'trinidad & tobago'}"
      ]
     },
     "execution_count": 7,
     "metadata": {},
     "output_type": "execute_result"
    }
   ],
   "source": [
    "BMR_FH = BMR_set - FH_set\n",
    "BMR_FH"
   ]
  },
  {
   "cell_type": "code",
   "execution_count": 8,
   "metadata": {},
   "outputs": [
    {
     "data": {
      "text/plain": [
       "{'andorra',\n",
       " 'antigua and barbuda',\n",
       " 'bahamas',\n",
       " 'belize',\n",
       " 'brunei',\n",
       " 'congo (brazzaville)',\n",
       " 'congo (kinshasa)',\n",
       " \"cote d'ivoire\",\n",
       " 'dominica',\n",
       " 'grenada',\n",
       " 'kiribati',\n",
       " 'liechtenstein',\n",
       " 'marshall islands',\n",
       " 'micronesia',\n",
       " 'monaco',\n",
       " 'myanmar',\n",
       " 'nauru',\n",
       " 'palau',\n",
       " 'samoa',\n",
       " 'san marino',\n",
       " 'st. kitts and nevis',\n",
       " 'st. lucia',\n",
       " 'st. vincent and the grenadines',\n",
       " 'tonga',\n",
       " 'tuvalu',\n",
       " 'united states'}"
      ]
     },
     "execution_count": 8,
     "metadata": {},
     "output_type": "execute_result"
    }
   ],
   "source": [
    "FH_VDEM = FH_set - VDEM_set\n",
    "FH_VDEM"
   ]
  },
  {
   "cell_type": "code",
   "execution_count": 9,
   "metadata": {},
   "outputs": [
    {
     "data": {
      "text/plain": [
       "{'burma/myanmar',\n",
       " 'democratic republic of the congo',\n",
       " 'hong kong',\n",
       " 'ivory coast',\n",
       " 'palestine/gaza',\n",
       " 'palestine/west bank',\n",
       " 'republic of the congo',\n",
       " 'somaliland',\n",
       " 'united states of america',\n",
       " 'zanzibar'}"
      ]
     },
     "execution_count": 9,
     "metadata": {},
     "output_type": "execute_result"
    }
   ],
   "source": [
    "VDEM_FH = VDEM_set - FH_set\n",
    "VDEM_FH"
   ]
  },
  {
   "cell_type": "code",
   "execution_count": 10,
   "metadata": {},
   "outputs": [
    {
     "data": {
      "text/plain": [
       "{'andorra',\n",
       " 'antigua',\n",
       " 'bahamas',\n",
       " 'belize',\n",
       " 'bosnia',\n",
       " 'brunei',\n",
       " 'central african rep.',\n",
       " 'congo, dem. rep.',\n",
       " 'congo, rep.',\n",
       " \"cote d'ivoire\",\n",
       " 'dominica',\n",
       " 'east timor',\n",
       " 'gambia',\n",
       " 'grenada',\n",
       " 'kiribati',\n",
       " 'korea, north',\n",
       " 'korea, south',\n",
       " 'liechstenstein',\n",
       " 'marshall islands',\n",
       " 'micronesia, fed.',\n",
       " 'monaco',\n",
       " 'myanmar',\n",
       " 'nauru',\n",
       " 'palau',\n",
       " 'samoa (western)',\n",
       " 'san marino',\n",
       " 'sao tome & principe',\n",
       " 'st. kitts & nevis',\n",
       " 'st. lucia',\n",
       " 'st. vincent & gren.',\n",
       " 'sudan, north',\n",
       " 'sudan, south',\n",
       " 'tonga',\n",
       " 'trinidad & tobago',\n",
       " 'tuvalu',\n",
       " 'united states'}"
      ]
     },
     "execution_count": 10,
     "metadata": {},
     "output_type": "execute_result"
    }
   ],
   "source": [
    "BMR_VDEM = BMR_set - VDEM_set\n",
    "BMR_VDEM"
   ]
  },
  {
   "cell_type": "code",
   "execution_count": 11,
   "metadata": {},
   "outputs": [
    {
     "data": {
      "text/plain": [
       "{'bosnia and herzegovina',\n",
       " 'burma/myanmar',\n",
       " 'central african republic',\n",
       " 'democratic republic of the congo',\n",
       " 'hong kong',\n",
       " 'ivory coast',\n",
       " 'north korea',\n",
       " 'palestine/gaza',\n",
       " 'palestine/west bank',\n",
       " 'republic of the congo',\n",
       " 'sao tome and principe',\n",
       " 'somaliland',\n",
       " 'south korea',\n",
       " 'south sudan',\n",
       " 'the gambia',\n",
       " 'timor-leste',\n",
       " 'trinidad and tobago',\n",
       " 'united states of america',\n",
       " 'zanzibar'}"
      ]
     },
     "execution_count": 11,
     "metadata": {},
     "output_type": "execute_result"
    }
   ],
   "source": [
    "VDEM_BMR = VDEM_set - BMR_set\n",
    "VDEM_BMR"
   ]
  }
 ],
 "metadata": {
  "kernelspec": {
   "display_name": "Python 3",
   "language": "python",
   "name": "python3"
  },
  "language_info": {
   "codemirror_mode": {
    "name": "ipython",
    "version": 3
   },
   "file_extension": ".py",
   "mimetype": "text/x-python",
   "name": "python",
   "nbconvert_exporter": "python",
   "pygments_lexer": "ipython3",
   "version": "3.6.8"
  }
 },
 "nbformat": 4,
 "nbformat_minor": 2
}
