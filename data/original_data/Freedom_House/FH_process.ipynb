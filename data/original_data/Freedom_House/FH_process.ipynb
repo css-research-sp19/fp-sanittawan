{
 "cells": [
  {
   "cell_type": "markdown",
   "metadata": {},
   "source": [
    "### Code for processing Freedom House data\n",
    "\n",
    "### Sanittawan Nikki Tan"
   ]
  },
  {
   "cell_type": "code",
   "execution_count": 1,
   "metadata": {},
   "outputs": [],
   "source": [
    "import pandas as pd\n",
    "import numpy as np\n",
    "import re"
   ]
  },
  {
   "cell_type": "code",
   "execution_count": 2,
   "metadata": {},
   "outputs": [],
   "source": [
    "fh = pd.read_excel('./2018_FH_ratings.xlsx', sheet_name=1, skiprows=[0], header=[0,1])"
   ]
  },
  {
   "cell_type": "code",
   "execution_count": 3,
   "metadata": {},
   "outputs": [
    {
     "data": {
      "text/html": [
       "<div>\n",
       "<style scoped>\n",
       "    .dataframe tbody tr th:only-of-type {\n",
       "        vertical-align: middle;\n",
       "    }\n",
       "\n",
       "    .dataframe tbody tr th {\n",
       "        vertical-align: top;\n",
       "    }\n",
       "\n",
       "    .dataframe thead tr th {\n",
       "        text-align: left;\n",
       "    }\n",
       "</style>\n",
       "<table border=\"1\" class=\"dataframe\">\n",
       "  <thead>\n",
       "    <tr>\n",
       "      <th></th>\n",
       "      <th>Year(s) Under Review</th>\n",
       "      <th colspan=\"3\" halign=\"left\">1972</th>\n",
       "      <th colspan=\"3\" halign=\"left\">1973</th>\n",
       "      <th colspan=\"3\" halign=\"left\">1974</th>\n",
       "      <th>...</th>\n",
       "      <th>2014</th>\n",
       "      <th colspan=\"3\" halign=\"left\">2015</th>\n",
       "      <th colspan=\"3\" halign=\"left\">2016</th>\n",
       "      <th colspan=\"3\" halign=\"left\">2017</th>\n",
       "    </tr>\n",
       "    <tr>\n",
       "      <th></th>\n",
       "      <th>Unnamed: 0_level_1</th>\n",
       "      <th>PR</th>\n",
       "      <th>CL</th>\n",
       "      <th>Status</th>\n",
       "      <th>PR</th>\n",
       "      <th>CL</th>\n",
       "      <th>Status</th>\n",
       "      <th>PR</th>\n",
       "      <th>CL</th>\n",
       "      <th>Status</th>\n",
       "      <th>...</th>\n",
       "      <th>Status</th>\n",
       "      <th>PR</th>\n",
       "      <th>CL</th>\n",
       "      <th>Status</th>\n",
       "      <th>PR</th>\n",
       "      <th>CL</th>\n",
       "      <th>Status</th>\n",
       "      <th>PR</th>\n",
       "      <th>CL</th>\n",
       "      <th>Status</th>\n",
       "    </tr>\n",
       "  </thead>\n",
       "  <tbody>\n",
       "    <tr>\n",
       "      <th>0</th>\n",
       "      <td>Afghanistan</td>\n",
       "      <td>4</td>\n",
       "      <td>5</td>\n",
       "      <td>PF</td>\n",
       "      <td>7</td>\n",
       "      <td>6</td>\n",
       "      <td>NF</td>\n",
       "      <td>7</td>\n",
       "      <td>6</td>\n",
       "      <td>NF</td>\n",
       "      <td>...</td>\n",
       "      <td>NF</td>\n",
       "      <td>6</td>\n",
       "      <td>6</td>\n",
       "      <td>NF</td>\n",
       "      <td>6</td>\n",
       "      <td>6</td>\n",
       "      <td>NF</td>\n",
       "      <td>5</td>\n",
       "      <td>6</td>\n",
       "      <td>NF</td>\n",
       "    </tr>\n",
       "    <tr>\n",
       "      <th>1</th>\n",
       "      <td>Albania</td>\n",
       "      <td>7</td>\n",
       "      <td>7</td>\n",
       "      <td>NF</td>\n",
       "      <td>7</td>\n",
       "      <td>7</td>\n",
       "      <td>NF</td>\n",
       "      <td>7</td>\n",
       "      <td>7</td>\n",
       "      <td>NF</td>\n",
       "      <td>...</td>\n",
       "      <td>PF</td>\n",
       "      <td>3</td>\n",
       "      <td>3</td>\n",
       "      <td>PF</td>\n",
       "      <td>3</td>\n",
       "      <td>3</td>\n",
       "      <td>PF</td>\n",
       "      <td>3</td>\n",
       "      <td>3</td>\n",
       "      <td>PF</td>\n",
       "    </tr>\n",
       "    <tr>\n",
       "      <th>2</th>\n",
       "      <td>Algeria</td>\n",
       "      <td>6</td>\n",
       "      <td>6</td>\n",
       "      <td>NF</td>\n",
       "      <td>6</td>\n",
       "      <td>6</td>\n",
       "      <td>NF</td>\n",
       "      <td>6</td>\n",
       "      <td>6</td>\n",
       "      <td>NF</td>\n",
       "      <td>...</td>\n",
       "      <td>NF</td>\n",
       "      <td>6</td>\n",
       "      <td>5</td>\n",
       "      <td>NF</td>\n",
       "      <td>6</td>\n",
       "      <td>5</td>\n",
       "      <td>NF</td>\n",
       "      <td>6</td>\n",
       "      <td>5</td>\n",
       "      <td>NF</td>\n",
       "    </tr>\n",
       "    <tr>\n",
       "      <th>3</th>\n",
       "      <td>Andorra</td>\n",
       "      <td>4</td>\n",
       "      <td>3</td>\n",
       "      <td>PF</td>\n",
       "      <td>4</td>\n",
       "      <td>4</td>\n",
       "      <td>PF</td>\n",
       "      <td>4</td>\n",
       "      <td>4</td>\n",
       "      <td>PF</td>\n",
       "      <td>...</td>\n",
       "      <td>F</td>\n",
       "      <td>1</td>\n",
       "      <td>1</td>\n",
       "      <td>F</td>\n",
       "      <td>1</td>\n",
       "      <td>1</td>\n",
       "      <td>F</td>\n",
       "      <td>1</td>\n",
       "      <td>1</td>\n",
       "      <td>F</td>\n",
       "    </tr>\n",
       "    <tr>\n",
       "      <th>4</th>\n",
       "      <td>Angola</td>\n",
       "      <td>-</td>\n",
       "      <td>-</td>\n",
       "      <td>-</td>\n",
       "      <td>-</td>\n",
       "      <td>-</td>\n",
       "      <td>-</td>\n",
       "      <td>-</td>\n",
       "      <td>-</td>\n",
       "      <td>-</td>\n",
       "      <td>...</td>\n",
       "      <td>NF</td>\n",
       "      <td>6</td>\n",
       "      <td>6</td>\n",
       "      <td>NF</td>\n",
       "      <td>6</td>\n",
       "      <td>6</td>\n",
       "      <td>NF</td>\n",
       "      <td>6</td>\n",
       "      <td>6</td>\n",
       "      <td>NF</td>\n",
       "    </tr>\n",
       "  </tbody>\n",
       "</table>\n",
       "<p>5 rows × 136 columns</p>\n",
       "</div>"
      ],
      "text/plain": [
       "  Year(s) Under Review 1972            1973            1974             ...  \\\n",
       "    Unnamed: 0_level_1   PR CL  Status   PR CL  Status   PR CL  Status  ...   \n",
       "0          Afghanistan    4   5     PF    7   6     NF    7   6     NF  ...   \n",
       "1              Albania    7   7     NF    7   7     NF    7   7     NF  ...   \n",
       "2              Algeria    6   6     NF    6   6     NF    6   6     NF  ...   \n",
       "3              Andorra    4   3     PF    4   4     PF    4   4     PF  ...   \n",
       "4               Angola    -   -      -    -   -      -    -   -      -  ...   \n",
       "\n",
       "    2014 2015           2016           2017            \n",
       "  Status   PR CL Status   PR CL Status   PR CL Status  \n",
       "0     NF    6  6     NF    6  6     NF    5  6     NF  \n",
       "1     PF    3  3     PF    3  3     PF    3  3     PF  \n",
       "2     NF    6  5     NF    6  5     NF    6  5     NF  \n",
       "3      F    1  1      F    1  1      F    1  1      F  \n",
       "4     NF    6  6     NF    6  6     NF    6  6     NF  \n",
       "\n",
       "[5 rows x 136 columns]"
      ]
     },
     "execution_count": 3,
     "metadata": {},
     "output_type": "execute_result"
    }
   ],
   "source": [
    "fh.head()"
   ]
  },
  {
   "cell_type": "code",
   "execution_count": 4,
   "metadata": {},
   "outputs": [],
   "source": [
    "# ref: https://stackoverflow.com/questions/14507794/pandas-how-to-flatten-a-hierarchical-index-in-columns\n",
    "multi_index = fh.columns\n",
    "mi_list = multi_index.tolist()\n",
    "mi_list\n",
    "ind = pd.Index([str(e[1]).strip() + str(e[0]).strip() for e in mi_list])\n",
    "fh.columns = ind"
   ]
  },
  {
   "cell_type": "code",
   "execution_count": 5,
   "metadata": {},
   "outputs": [
    {
     "data": {
      "text/plain": [
       "Index(['Unnamed: 0_level_1Year(s) Under Review', 'PR1972', 'CL1972',\n",
       "       'Status1972', 'PR1973', 'CL1973', 'Status1973', 'PR1974', 'CL1974',\n",
       "       'Status1974',\n",
       "       ...\n",
       "       'Status2014', 'PR2015', 'CL2015', 'Status2015', 'PR2016', 'CL2016',\n",
       "       'Status2016', 'PR2017', 'CL2017', 'Status2017'],\n",
       "      dtype='object', length=136)"
      ]
     },
     "execution_count": 5,
     "metadata": {},
     "output_type": "execute_result"
    }
   ],
   "source": [
    "fh.columns"
   ]
  },
  {
   "cell_type": "code",
   "execution_count": 6,
   "metadata": {},
   "outputs": [],
   "source": [
    "fh = fh.rename(columns={'Unnamed: 0_level_1Year(s) Under Review':'country'})"
   ]
  },
  {
   "cell_type": "code",
   "execution_count": 7,
   "metadata": {},
   "outputs": [
    {
     "data": {
      "text/html": [
       "<div>\n",
       "<style scoped>\n",
       "    .dataframe tbody tr th:only-of-type {\n",
       "        vertical-align: middle;\n",
       "    }\n",
       "\n",
       "    .dataframe tbody tr th {\n",
       "        vertical-align: top;\n",
       "    }\n",
       "\n",
       "    .dataframe thead th {\n",
       "        text-align: right;\n",
       "    }\n",
       "</style>\n",
       "<table border=\"1\" class=\"dataframe\">\n",
       "  <thead>\n",
       "    <tr style=\"text-align: right;\">\n",
       "      <th></th>\n",
       "      <th>country</th>\n",
       "      <th>PR1972</th>\n",
       "      <th>CL1972</th>\n",
       "      <th>Status1972</th>\n",
       "      <th>PR1973</th>\n",
       "      <th>CL1973</th>\n",
       "      <th>Status1973</th>\n",
       "      <th>PR1974</th>\n",
       "      <th>CL1974</th>\n",
       "      <th>Status1974</th>\n",
       "      <th>...</th>\n",
       "      <th>Status2014</th>\n",
       "      <th>PR2015</th>\n",
       "      <th>CL2015</th>\n",
       "      <th>Status2015</th>\n",
       "      <th>PR2016</th>\n",
       "      <th>CL2016</th>\n",
       "      <th>Status2016</th>\n",
       "      <th>PR2017</th>\n",
       "      <th>CL2017</th>\n",
       "      <th>Status2017</th>\n",
       "    </tr>\n",
       "  </thead>\n",
       "  <tbody>\n",
       "    <tr>\n",
       "      <th>0</th>\n",
       "      <td>Afghanistan</td>\n",
       "      <td>4</td>\n",
       "      <td>5</td>\n",
       "      <td>PF</td>\n",
       "      <td>7</td>\n",
       "      <td>6</td>\n",
       "      <td>NF</td>\n",
       "      <td>7</td>\n",
       "      <td>6</td>\n",
       "      <td>NF</td>\n",
       "      <td>...</td>\n",
       "      <td>NF</td>\n",
       "      <td>6</td>\n",
       "      <td>6</td>\n",
       "      <td>NF</td>\n",
       "      <td>6</td>\n",
       "      <td>6</td>\n",
       "      <td>NF</td>\n",
       "      <td>5</td>\n",
       "      <td>6</td>\n",
       "      <td>NF</td>\n",
       "    </tr>\n",
       "    <tr>\n",
       "      <th>1</th>\n",
       "      <td>Albania</td>\n",
       "      <td>7</td>\n",
       "      <td>7</td>\n",
       "      <td>NF</td>\n",
       "      <td>7</td>\n",
       "      <td>7</td>\n",
       "      <td>NF</td>\n",
       "      <td>7</td>\n",
       "      <td>7</td>\n",
       "      <td>NF</td>\n",
       "      <td>...</td>\n",
       "      <td>PF</td>\n",
       "      <td>3</td>\n",
       "      <td>3</td>\n",
       "      <td>PF</td>\n",
       "      <td>3</td>\n",
       "      <td>3</td>\n",
       "      <td>PF</td>\n",
       "      <td>3</td>\n",
       "      <td>3</td>\n",
       "      <td>PF</td>\n",
       "    </tr>\n",
       "    <tr>\n",
       "      <th>2</th>\n",
       "      <td>Algeria</td>\n",
       "      <td>6</td>\n",
       "      <td>6</td>\n",
       "      <td>NF</td>\n",
       "      <td>6</td>\n",
       "      <td>6</td>\n",
       "      <td>NF</td>\n",
       "      <td>6</td>\n",
       "      <td>6</td>\n",
       "      <td>NF</td>\n",
       "      <td>...</td>\n",
       "      <td>NF</td>\n",
       "      <td>6</td>\n",
       "      <td>5</td>\n",
       "      <td>NF</td>\n",
       "      <td>6</td>\n",
       "      <td>5</td>\n",
       "      <td>NF</td>\n",
       "      <td>6</td>\n",
       "      <td>5</td>\n",
       "      <td>NF</td>\n",
       "    </tr>\n",
       "    <tr>\n",
       "      <th>3</th>\n",
       "      <td>Andorra</td>\n",
       "      <td>4</td>\n",
       "      <td>3</td>\n",
       "      <td>PF</td>\n",
       "      <td>4</td>\n",
       "      <td>4</td>\n",
       "      <td>PF</td>\n",
       "      <td>4</td>\n",
       "      <td>4</td>\n",
       "      <td>PF</td>\n",
       "      <td>...</td>\n",
       "      <td>F</td>\n",
       "      <td>1</td>\n",
       "      <td>1</td>\n",
       "      <td>F</td>\n",
       "      <td>1</td>\n",
       "      <td>1</td>\n",
       "      <td>F</td>\n",
       "      <td>1</td>\n",
       "      <td>1</td>\n",
       "      <td>F</td>\n",
       "    </tr>\n",
       "    <tr>\n",
       "      <th>4</th>\n",
       "      <td>Angola</td>\n",
       "      <td>-</td>\n",
       "      <td>-</td>\n",
       "      <td>-</td>\n",
       "      <td>-</td>\n",
       "      <td>-</td>\n",
       "      <td>-</td>\n",
       "      <td>-</td>\n",
       "      <td>-</td>\n",
       "      <td>-</td>\n",
       "      <td>...</td>\n",
       "      <td>NF</td>\n",
       "      <td>6</td>\n",
       "      <td>6</td>\n",
       "      <td>NF</td>\n",
       "      <td>6</td>\n",
       "      <td>6</td>\n",
       "      <td>NF</td>\n",
       "      <td>6</td>\n",
       "      <td>6</td>\n",
       "      <td>NF</td>\n",
       "    </tr>\n",
       "  </tbody>\n",
       "</table>\n",
       "<p>5 rows × 136 columns</p>\n",
       "</div>"
      ],
      "text/plain": [
       "       country PR1972 CL1972 Status1972 PR1973 CL1973 Status1973 PR1974  \\\n",
       "0  Afghanistan      4      5         PF      7      6         NF      7   \n",
       "1      Albania      7      7         NF      7      7         NF      7   \n",
       "2      Algeria      6      6         NF      6      6         NF      6   \n",
       "3      Andorra      4      3         PF      4      4         PF      4   \n",
       "4       Angola      -      -          -      -      -          -      -   \n",
       "\n",
       "  CL1974 Status1974  ... Status2014 PR2015 CL2015 Status2015 PR2016 CL2016  \\\n",
       "0      6         NF  ...         NF      6      6         NF      6      6   \n",
       "1      7         NF  ...         PF      3      3         PF      3      3   \n",
       "2      6         NF  ...         NF      6      5         NF      6      5   \n",
       "3      4         PF  ...          F      1      1          F      1      1   \n",
       "4      -          -  ...         NF      6      6         NF      6      6   \n",
       "\n",
       "  Status2016 PR2017 CL2017 Status2017  \n",
       "0         NF      5      6         NF  \n",
       "1         PF      3      3         PF  \n",
       "2         NF      6      5         NF  \n",
       "3          F      1      1          F  \n",
       "4         NF      6      6         NF  \n",
       "\n",
       "[5 rows x 136 columns]"
      ]
     },
     "execution_count": 7,
     "metadata": {},
     "output_type": "execute_result"
    }
   ],
   "source": [
    "fh.head()"
   ]
  },
  {
   "cell_type": "code",
   "execution_count": 8,
   "metadata": {},
   "outputs": [
    {
     "data": {
      "text/plain": [
       "Index(['country', 'PR1972', 'CL1972', 'Status1972', 'PR1973', 'CL1973',\n",
       "       'Status1973', 'PR1974', 'CL1974', 'Status1974',\n",
       "       ...\n",
       "       'Status2014', 'PR2015', 'CL2015', 'Status2015', 'PR2016', 'CL2016',\n",
       "       'Status2016', 'PR2017', 'CL2017', 'Status2017'],\n",
       "      dtype='object', length=136)"
      ]
     },
     "execution_count": 8,
     "metadata": {},
     "output_type": "execute_result"
    }
   ],
   "source": [
    "fh.columns"
   ]
  },
  {
   "cell_type": "code",
   "execution_count": 9,
   "metadata": {},
   "outputs": [],
   "source": [
    "fh[\"id\"] = fh.index\n",
    "fh = pd.wide_to_long(fh, [\"PR\", \"CL\", \"Status\"], i=[\"id\", \"country\"], j=\"year\", suffix='[\\w\\d\\W.-]+')"
   ]
  },
  {
   "cell_type": "code",
   "execution_count": 10,
   "metadata": {},
   "outputs": [
    {
     "data": {
      "text/plain": [
       "Index(['1972', '1973', '1974', '1975', '1976', '1977', '1978', '1979', '1980',\n",
       "       'Jan.1981-Aug. 1982',\n",
       "       ...\n",
       "       '2008', '2009', '2010', '2011', '2012', '2013', '2014', '2015', '2016',\n",
       "       '2017'],\n",
       "      dtype='object', name='year', length=9270)"
      ]
     },
     "execution_count": 10,
     "metadata": {},
     "output_type": "execute_result"
    }
   ],
   "source": [
    "fh.index.get_level_values(level=2)"
   ]
  },
  {
   "cell_type": "code",
   "execution_count": 11,
   "metadata": {},
   "outputs": [],
   "source": [
    "# https://stackoverflow.com/questions/40855900/pandas-rename-index-values\n",
    "fh = fh.rename({'Jan.1981-Aug. 1982': '1982',\n",
    "            'Aug.1982-Nov.1983': '1983',\n",
    "            'Nov.1983-Nov.1984': '1984',\n",
    "            'Nov.1984-Nov.1985': '1985',\n",
    "            'Nov.1985-Nov.1986': '1986',\n",
    "            'Nov.1986-Nov.1987': '1987',\n",
    "            'Nov.1987-Nov.1988': '1988',\n",
    "            'Nov.1988-Dec.1989': '1989'}, axis='index', level=2)"
   ]
  },
  {
   "cell_type": "code",
   "execution_count": 12,
   "metadata": {},
   "outputs": [],
   "source": [
    "final_fh = pd.DataFrame(fh.to_records())\n",
    "final_fh = final_fh.astype(dtype={'year': 'int64'})"
   ]
  },
  {
   "cell_type": "code",
   "execution_count": 13,
   "metadata": {},
   "outputs": [],
   "source": [
    "final_fh = final_fh.drop(final_fh[final_fh['year'] < 2008].index)"
   ]
  },
  {
   "cell_type": "code",
   "execution_count": 14,
   "metadata": {},
   "outputs": [],
   "source": [
    "final_fh = final_fh[(final_fh['PR'] != '-') | (final_fh['CL'] != '-')]"
   ]
  },
  {
   "cell_type": "code",
   "execution_count": 15,
   "metadata": {},
   "outputs": [],
   "source": [
    "final_fh = final_fh.drop('id', axis=1)"
   ]
  },
  {
   "cell_type": "code",
   "execution_count": 16,
   "metadata": {},
   "outputs": [],
   "source": [
    "final_fh['Status'] = final_fh['Status'].apply(lambda x: x.strip())"
   ]
  },
  {
   "cell_type": "code",
   "execution_count": 17,
   "metadata": {},
   "outputs": [],
   "source": [
    "final_fh = final_fh.astype(dtype={'PR': 'int64',\n",
    "                                  'CL': 'int64'})"
   ]
  },
  {
   "cell_type": "code",
   "execution_count": 18,
   "metadata": {},
   "outputs": [],
   "source": [
    "final_fh['country'] = final_fh['country'].apply(lambda x: x.strip())"
   ]
  },
  {
   "cell_type": "code",
   "execution_count": 19,
   "metadata": {},
   "outputs": [
    {
     "data": {
      "text/plain": [
       "array(['NF', 'PF', 'F'], dtype=object)"
      ]
     },
     "execution_count": 19,
     "metadata": {},
     "output_type": "execute_result"
    }
   ],
   "source": [
    "final_fh['Status'].unique()"
   ]
  },
  {
   "cell_type": "code",
   "execution_count": 20,
   "metadata": {},
   "outputs": [],
   "source": [
    "final_fh['FH_category'] = 0"
   ]
  },
  {
   "cell_type": "code",
   "execution_count": 21,
   "metadata": {},
   "outputs": [
    {
     "name": "stderr",
     "output_type": "stream",
     "text": [
      "/Users/sanittawan/anaconda3/lib/python3.6/site-packages/pandas/core/indexing.py:190: SettingWithCopyWarning: \n",
      "A value is trying to be set on a copy of a slice from a DataFrame\n",
      "\n",
      "See the caveats in the documentation: http://pandas.pydata.org/pandas-docs/stable/indexing.html#indexing-view-versus-copy\n",
      "  self._setitem_with_indexer(indexer, value)\n"
     ]
    }
   ],
   "source": [
    "final_fh['FH_category'].loc[final_fh['Status'] == 'F'] = 2"
   ]
  },
  {
   "cell_type": "code",
   "execution_count": 22,
   "metadata": {},
   "outputs": [],
   "source": [
    "final_fh['FH_category'].loc[final_fh['Status'] == 'PF'] = 1"
   ]
  },
  {
   "cell_type": "code",
   "execution_count": 27,
   "metadata": {},
   "outputs": [],
   "source": [
    "dummies = pd.get_dummies(final_fh['Status'], prefix='FH')"
   ]
  },
  {
   "cell_type": "code",
   "execution_count": 28,
   "metadata": {},
   "outputs": [],
   "source": [
    "final_fh = pd.concat([final_fh, dummies], axis=1)"
   ]
  },
  {
   "cell_type": "code",
   "execution_count": 30,
   "metadata": {},
   "outputs": [
    {
     "data": {
      "text/html": [
       "<div>\n",
       "<style scoped>\n",
       "    .dataframe tbody tr th:only-of-type {\n",
       "        vertical-align: middle;\n",
       "    }\n",
       "\n",
       "    .dataframe tbody tr th {\n",
       "        vertical-align: top;\n",
       "    }\n",
       "\n",
       "    .dataframe thead th {\n",
       "        text-align: right;\n",
       "    }\n",
       "</style>\n",
       "<table border=\"1\" class=\"dataframe\">\n",
       "  <thead>\n",
       "    <tr style=\"text-align: right;\">\n",
       "      <th></th>\n",
       "      <th>country</th>\n",
       "      <th>year</th>\n",
       "      <th>PR</th>\n",
       "      <th>CL</th>\n",
       "      <th>Status</th>\n",
       "      <th>FH_category</th>\n",
       "      <th>FH_F</th>\n",
       "      <th>FH_NF</th>\n",
       "      <th>FH_PF</th>\n",
       "    </tr>\n",
       "  </thead>\n",
       "  <tbody>\n",
       "    <tr>\n",
       "      <th>35</th>\n",
       "      <td>Afghanistan</td>\n",
       "      <td>2008</td>\n",
       "      <td>5</td>\n",
       "      <td>6</td>\n",
       "      <td>NF</td>\n",
       "      <td>0</td>\n",
       "      <td>0</td>\n",
       "      <td>1</td>\n",
       "      <td>0</td>\n",
       "    </tr>\n",
       "    <tr>\n",
       "      <th>36</th>\n",
       "      <td>Afghanistan</td>\n",
       "      <td>2009</td>\n",
       "      <td>6</td>\n",
       "      <td>6</td>\n",
       "      <td>NF</td>\n",
       "      <td>0</td>\n",
       "      <td>0</td>\n",
       "      <td>1</td>\n",
       "      <td>0</td>\n",
       "    </tr>\n",
       "    <tr>\n",
       "      <th>37</th>\n",
       "      <td>Afghanistan</td>\n",
       "      <td>2010</td>\n",
       "      <td>6</td>\n",
       "      <td>6</td>\n",
       "      <td>NF</td>\n",
       "      <td>0</td>\n",
       "      <td>0</td>\n",
       "      <td>1</td>\n",
       "      <td>0</td>\n",
       "    </tr>\n",
       "    <tr>\n",
       "      <th>38</th>\n",
       "      <td>Afghanistan</td>\n",
       "      <td>2011</td>\n",
       "      <td>6</td>\n",
       "      <td>6</td>\n",
       "      <td>NF</td>\n",
       "      <td>0</td>\n",
       "      <td>0</td>\n",
       "      <td>1</td>\n",
       "      <td>0</td>\n",
       "    </tr>\n",
       "    <tr>\n",
       "      <th>39</th>\n",
       "      <td>Afghanistan</td>\n",
       "      <td>2012</td>\n",
       "      <td>6</td>\n",
       "      <td>6</td>\n",
       "      <td>NF</td>\n",
       "      <td>0</td>\n",
       "      <td>0</td>\n",
       "      <td>1</td>\n",
       "      <td>0</td>\n",
       "    </tr>\n",
       "  </tbody>\n",
       "</table>\n",
       "</div>"
      ],
      "text/plain": [
       "        country  year  PR  CL Status  FH_category  FH_F  FH_NF  FH_PF\n",
       "35  Afghanistan  2008   5   6     NF            0     0      1      0\n",
       "36  Afghanistan  2009   6   6     NF            0     0      1      0\n",
       "37  Afghanistan  2010   6   6     NF            0     0      1      0\n",
       "38  Afghanistan  2011   6   6     NF            0     0      1      0\n",
       "39  Afghanistan  2012   6   6     NF            0     0      1      0"
      ]
     },
     "execution_count": 30,
     "metadata": {},
     "output_type": "execute_result"
    }
   ],
   "source": [
    "final_fh.head()"
   ]
  },
  {
   "cell_type": "code",
   "execution_count": 31,
   "metadata": {},
   "outputs": [],
   "source": [
    "final_fh.to_csv('./cleaned_FH.csv', index=False)"
   ]
  }
 ],
 "metadata": {
  "kernelspec": {
   "display_name": "Python 3",
   "language": "python",
   "name": "python3"
  },
  "language_info": {
   "codemirror_mode": {
    "name": "ipython",
    "version": 3
   },
   "file_extension": ".py",
   "mimetype": "text/x-python",
   "name": "python",
   "nbconvert_exporter": "python",
   "pygments_lexer": "ipython3",
   "version": "3.6.8"
  }
 },
 "nbformat": 4,
 "nbformat_minor": 2
}
