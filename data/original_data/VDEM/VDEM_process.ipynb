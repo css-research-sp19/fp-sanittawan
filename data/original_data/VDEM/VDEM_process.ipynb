{
 "cells": [
  {
   "cell_type": "markdown",
   "metadata": {},
   "source": [
    "### Code for processing V-DEM v.9 dataset\n",
    "\n",
    "### Sanittawan Tan"
   ]
  },
  {
   "cell_type": "code",
   "execution_count": 1,
   "metadata": {},
   "outputs": [],
   "source": [
    "import numpy as np\n",
    "import pandas as pd"
   ]
  },
  {
   "cell_type": "code",
   "execution_count": 2,
   "metadata": {},
   "outputs": [],
   "source": [
    "YEAR = 2005"
   ]
  },
  {
   "cell_type": "code",
   "execution_count": 3,
   "metadata": {},
   "outputs": [],
   "source": [
    "vdem = pd.read_csv('V-Dem-CY-Full+Others-v9.csv', dtype={'year': 'Int64'}, low_memory=False)"
   ]
  },
  {
   "cell_type": "code",
   "execution_count": 4,
   "metadata": {},
   "outputs": [],
   "source": [
    "vdem = vdem.drop(vdem[vdem['year'] < 2005].index)"
   ]
  },
  {
   "cell_type": "code",
   "execution_count": 5,
   "metadata": {},
   "outputs": [],
   "source": [
    "vdem = vdem.rename(columns={'country_name':'country'})"
   ]
  },
  {
   "cell_type": "code",
   "execution_count": 6,
   "metadata": {},
   "outputs": [],
   "source": [
    "vdem['country'] = vdem['country'].apply(lambda x: x.strip().lower())"
   ]
  },
  {
   "cell_type": "code",
   "execution_count": 7,
   "metadata": {},
   "outputs": [
    {
     "data": {
      "text/plain": [
       "array(['afghanistan', 'angola', 'albania', 'united arab emirates',\n",
       "       'argentina', 'armenia', 'australia', 'austria', 'azerbaijan',\n",
       "       'burundi', 'belgium', 'benin', 'burkina faso', 'bangladesh',\n",
       "       'bulgaria', 'bahrain', 'bosnia and herzegovina', 'belarus',\n",
       "       'bolivia', 'brazil', 'barbados', 'bhutan', 'botswana',\n",
       "       'central african republic', 'canada', 'switzerland', 'chile',\n",
       "       'china', 'ivory coast', 'cameroon',\n",
       "       'democratic republic of the congo', 'republic of the congo',\n",
       "       'colombia', 'comoros', 'cape verde', 'costa rica', 'cuba',\n",
       "       'cyprus', 'czech republic', 'germany', 'djibouti', 'denmark',\n",
       "       'dominican republic', 'algeria', 'ecuador', 'egypt', 'eritrea',\n",
       "       'spain', 'estonia', 'ethiopia', 'finland', 'fiji', 'france',\n",
       "       'gabon', 'united kingdom', 'georgia', 'ghana', 'guinea',\n",
       "       'the gambia', 'guinea-bissau', 'equatorial guinea', 'greece',\n",
       "       'guatemala', 'guyana', 'hong kong', 'honduras', 'croatia', 'haiti',\n",
       "       'hungary', 'indonesia', 'india', 'ireland', 'iran', 'iraq',\n",
       "       'iceland', 'israel', 'italy', 'jamaica', 'jordan', 'japan',\n",
       "       'kazakhstan', 'kenya', 'kyrgyzstan', 'cambodia', 'south korea',\n",
       "       'kuwait', 'laos', 'lebanon', 'liberia', 'libya', 'sri lanka',\n",
       "       'lesotho', 'lithuania', 'luxembourg', 'latvia', 'morocco',\n",
       "       'moldova', 'madagascar', 'maldives', 'mexico', 'macedonia', 'mali',\n",
       "       'malta', 'burma/myanmar', 'montenegro', 'mongolia', 'mozambique',\n",
       "       'mauritania', 'mauritius', 'malawi', 'malaysia', 'namibia',\n",
       "       'niger', 'nigeria', 'nicaragua', 'netherlands', 'norway', 'nepal',\n",
       "       'new zealand', 'oman', 'pakistan', 'panama', 'peru', 'philippines',\n",
       "       'papua new guinea', 'poland', 'north korea', 'portugal',\n",
       "       'paraguay', 'palestine/west bank', 'palestine/gaza', 'qatar',\n",
       "       'romania', 'russia', 'rwanda', 'saudi arabia', 'sudan', 'senegal',\n",
       "       'singapore', 'solomon islands', 'sierra leone', 'el salvador',\n",
       "       'somaliland', 'somalia', 'serbia', 'south sudan',\n",
       "       'sao tome and principe', 'suriname', 'slovakia', 'slovenia',\n",
       "       'sweden', 'swaziland', 'seychelles', 'syria', 'chad', 'togo',\n",
       "       'thailand', 'tajikistan', 'turkmenistan', 'timor-leste',\n",
       "       'trinidad and tobago', 'tunisia', 'turkey', 'taiwan', 'tanzania',\n",
       "       'uganda', 'ukraine', 'uruguay', 'united states of america',\n",
       "       'uzbekistan', 'venezuela', 'vietnam', 'vanuatu', 'kosovo', 'yemen',\n",
       "       'south africa', 'zambia', 'zimbabwe', 'zanzibar'], dtype=object)"
      ]
     },
     "execution_count": 7,
     "metadata": {},
     "output_type": "execute_result"
    }
   ],
   "source": [
    "vdem.country.unique()"
   ]
  },
  {
   "cell_type": "code",
   "execution_count": 8,
   "metadata": {},
   "outputs": [
    {
     "data": {
      "text/plain": [
       "179"
      ]
     },
     "execution_count": 8,
     "metadata": {},
     "output_type": "execute_result"
    }
   ],
   "source": [
    "len(vdem.country.unique())"
   ]
  },
  {
   "cell_type": "code",
   "execution_count": 9,
   "metadata": {},
   "outputs": [],
   "source": [
    "cols_to_keep = ['country', 'year',\n",
    "            'v2lgfunds_ord', 'v2lgamend',\n",
    "            'v2exhoshog', 'v2exaphogp', 'v2exaphos', 'v2ddlexci',\n",
    "            'v2ddlexrf', 'v2ddlexpl', 'v2lginello', 'v2lginelup',\n",
    "            'v2exl_legitlead_ord', 'v2pepwrgeo_ord', 'v2clgencl_ord',\n",
    "            'v2clpolcl_ord', 'v2peapssoc_ord', 'v2peapsgen_ord',\n",
    "            'v2peapsecon_ord', 'v2peapspol_ord', 'v2peapsgeo_ord',\n",
    "            'v2pepwrses_ord', 'v2pepwrsoc_ord', 'v2pepwrgen_ord',\n",
    "            'v2peedueq_ord', 'v2pehealth_ord', 'v2mecenefm_ord',\n",
    "            'v2mecenefi_ord', 'v2mecrit_ord', 'v2meslfcen_ord',\n",
    "            'v2mebias_ord','v2mecorrpt_ord','v2cseeorgs_ord',\n",
    "            'v2csreprss_ord', 'v2clrelig_ord'\n",
    "            'v2clacfree_ord', 'v2cltrnslw_ord', 'v2clrspct_ord',\n",
    "            'v2cldiscm_ord','v2cldiscw_ord','v2jureform_ord',\n",
    "            'v2jupoatck_ord', 'v2jupack_ord', 'v2juhcind_ord',\n",
    "            'v2juncind_ord', 'v2jureview_ord', 'v2lgotovst_ord',\n",
    "            'v2lgoppart_ord', 'v2exremhsp_ord',\n",
    "            'v2exremhog_ord', 'v2exrescon_ord', 'v2exbribe_ord',\n",
    "            'v2psbars_ord', 'v2psoppaut_ord', 'v2psplats_ord',\n",
    "            'v2pscohesv_ord', 'v2eldonate_ord', 'v2elpubfin_ord',\n",
    "            'v2elembaut_ord', 'v2elmulpar_ord', 'v2elvotbuy_ord',\n",
    "            'v2elfrcamp_ord', 'v2elfrfair_ord', 'v2elaccept_ord',\n",
    "            'v2elasmoff_ord', 'v2eltrnout_ord', 'v2elintim'\n",
    "]"
   ]
  },
  {
   "cell_type": "code",
   "execution_count": 10,
   "metadata": {},
   "outputs": [],
   "source": [
    "nominal = ['v2lgfunds', 'v2lgamend',\n",
    "            'v2exhoshog', 'v2exaphogp', 'v2exaphos', 'v2ddlexci',\n",
    "            'v2ddlexrf', 'v2ddlexpl'\n",
    "]"
   ]
  },
  {
   "cell_type": "code",
   "execution_count": 11,
   "metadata": {},
   "outputs": [],
   "source": [
    "ordinal = ['v2exl_legitlead_ord', 'v2pepwrgeo_ord', 'v2clgencl_ord',\n",
    "            'v2clpolcl_ord', 'v2peapssoc_ord', 'v2peapsgen_ord',\n",
    "            'v2peapsecon_ord', 'v2peapspol_ord', 'v2peapsgeo_ord',\n",
    "            'v2pepwrses_ord', 'v2pepwrsoc_ord', 'v2pepwrgen_ord',\n",
    "            'v2peedueq_ord', 'v2pehealth_ord', 'v2mecenefm_ord',\n",
    "            'v2mecenefi_ord', 'v2mecrit_ord', 'v2meslfcen_ord',\n",
    "            'v2mebias_ord','v2mecorrpt_ord','v2cseeorgs_ord',\n",
    "            'v2csreprss_ord', 'v2clrelig_ord'\n",
    "            'v2clacfree_ord', 'v2cltrnslw_ord', 'v2clrspct_ord',\n",
    "            'v2cldiscm_ord','v2cldiscw_ord','v2jureform_ord',\n",
    "            'v2jupoatck_ord', 'v2jupack_ord', 'v2juhcind_ord',\n",
    "            'v2juncind_ord', 'v2jureview_ord', 'v2lgotovst_ord',\n",
    "            'v2lgoppart_ord', 'v2exremhsp_ord',\n",
    "            'v2exremhog_ord', 'v2exrescon_ord', 'v2exbribe_ord',\n",
    "            'v2psbars_ord', 'v2psoppaut_ord', 'v2psplats_ord',\n",
    "            'v2pscohesv_ord', 'v2eldonate_ord', 'v2elpubfin_ord',\n",
    "            'v2elembaut_ord', 'v2elmulpar_ord', 'v2elvotbuy_ord',\n",
    "            'v2elfrcamp_ord', 'v2elfrfair_ord', 'v2elaccept_ord',\n",
    "            'v2elasmoff_ord', 'v2eltrnout_ord', 'v2elintim'\n",
    "]"
   ]
  },
  {
   "cell_type": "code",
   "execution_count": 12,
   "metadata": {},
   "outputs": [],
   "source": [
    "continuous = ['v2lginello', 'v2lginelup'\n",
    "]"
   ]
  },
  {
   "cell_type": "code",
   "execution_count": 13,
   "metadata": {},
   "outputs": [],
   "source": [
    "ss_vdem = vdem.filter(items=cols_to_keep)"
   ]
  },
  {
   "cell_type": "code",
   "execution_count": 14,
   "metadata": {},
   "outputs": [
    {
     "data": {
      "text/html": [
       "<div>\n",
       "<style scoped>\n",
       "    .dataframe tbody tr th:only-of-type {\n",
       "        vertical-align: middle;\n",
       "    }\n",
       "\n",
       "    .dataframe tbody tr th {\n",
       "        vertical-align: top;\n",
       "    }\n",
       "\n",
       "    .dataframe thead th {\n",
       "        text-align: right;\n",
       "    }\n",
       "</style>\n",
       "<table border=\"1\" class=\"dataframe\">\n",
       "  <thead>\n",
       "    <tr style=\"text-align: right;\">\n",
       "      <th></th>\n",
       "      <th>country</th>\n",
       "      <th>year</th>\n",
       "      <th>v2lgfunds_ord</th>\n",
       "      <th>v2lgamend</th>\n",
       "      <th>v2exhoshog</th>\n",
       "      <th>v2exaphogp</th>\n",
       "      <th>v2exaphos</th>\n",
       "      <th>v2ddlexci</th>\n",
       "      <th>v2ddlexrf</th>\n",
       "      <th>v2ddlexpl</th>\n",
       "      <th>...</th>\n",
       "      <th>v2eldonate_ord</th>\n",
       "      <th>v2elpubfin_ord</th>\n",
       "      <th>v2elembaut_ord</th>\n",
       "      <th>v2elmulpar_ord</th>\n",
       "      <th>v2elvotbuy_ord</th>\n",
       "      <th>v2elfrcamp_ord</th>\n",
       "      <th>v2elfrfair_ord</th>\n",
       "      <th>v2elaccept_ord</th>\n",
       "      <th>v2elasmoff_ord</th>\n",
       "      <th>v2elintim</th>\n",
       "    </tr>\n",
       "  </thead>\n",
       "  <tbody>\n",
       "    <tr>\n",
       "      <th>216</th>\n",
       "      <td>afghanistan</td>\n",
       "      <td>2005</td>\n",
       "      <td>0.0</td>\n",
       "      <td>0.0</td>\n",
       "      <td>1.0</td>\n",
       "      <td>NaN</td>\n",
       "      <td>NaN</td>\n",
       "      <td>0.0</td>\n",
       "      <td>0.0</td>\n",
       "      <td>2.0</td>\n",
       "      <td>...</td>\n",
       "      <td>2.0</td>\n",
       "      <td>0.0</td>\n",
       "      <td>2.0</td>\n",
       "      <td>3.0</td>\n",
       "      <td>1.0</td>\n",
       "      <td>2.0</td>\n",
       "      <td>2.0</td>\n",
       "      <td>3.0</td>\n",
       "      <td>2.0</td>\n",
       "      <td>-0.240</td>\n",
       "    </tr>\n",
       "    <tr>\n",
       "      <th>217</th>\n",
       "      <td>afghanistan</td>\n",
       "      <td>2006</td>\n",
       "      <td>0.0</td>\n",
       "      <td>0.0</td>\n",
       "      <td>1.0</td>\n",
       "      <td>NaN</td>\n",
       "      <td>NaN</td>\n",
       "      <td>0.0</td>\n",
       "      <td>0.0</td>\n",
       "      <td>2.0</td>\n",
       "      <td>...</td>\n",
       "      <td>2.0</td>\n",
       "      <td>0.0</td>\n",
       "      <td>2.0</td>\n",
       "      <td>NaN</td>\n",
       "      <td>NaN</td>\n",
       "      <td>NaN</td>\n",
       "      <td>NaN</td>\n",
       "      <td>NaN</td>\n",
       "      <td>NaN</td>\n",
       "      <td>NaN</td>\n",
       "    </tr>\n",
       "    <tr>\n",
       "      <th>218</th>\n",
       "      <td>afghanistan</td>\n",
       "      <td>2007</td>\n",
       "      <td>0.0</td>\n",
       "      <td>0.0</td>\n",
       "      <td>1.0</td>\n",
       "      <td>NaN</td>\n",
       "      <td>NaN</td>\n",
       "      <td>0.0</td>\n",
       "      <td>0.0</td>\n",
       "      <td>2.0</td>\n",
       "      <td>...</td>\n",
       "      <td>2.0</td>\n",
       "      <td>0.0</td>\n",
       "      <td>2.0</td>\n",
       "      <td>NaN</td>\n",
       "      <td>NaN</td>\n",
       "      <td>NaN</td>\n",
       "      <td>NaN</td>\n",
       "      <td>NaN</td>\n",
       "      <td>NaN</td>\n",
       "      <td>NaN</td>\n",
       "    </tr>\n",
       "    <tr>\n",
       "      <th>219</th>\n",
       "      <td>afghanistan</td>\n",
       "      <td>2008</td>\n",
       "      <td>0.0</td>\n",
       "      <td>0.0</td>\n",
       "      <td>1.0</td>\n",
       "      <td>NaN</td>\n",
       "      <td>NaN</td>\n",
       "      <td>0.0</td>\n",
       "      <td>0.0</td>\n",
       "      <td>2.0</td>\n",
       "      <td>...</td>\n",
       "      <td>2.0</td>\n",
       "      <td>0.0</td>\n",
       "      <td>2.0</td>\n",
       "      <td>NaN</td>\n",
       "      <td>NaN</td>\n",
       "      <td>NaN</td>\n",
       "      <td>NaN</td>\n",
       "      <td>NaN</td>\n",
       "      <td>NaN</td>\n",
       "      <td>NaN</td>\n",
       "    </tr>\n",
       "    <tr>\n",
       "      <th>220</th>\n",
       "      <td>afghanistan</td>\n",
       "      <td>2009</td>\n",
       "      <td>0.0</td>\n",
       "      <td>0.0</td>\n",
       "      <td>1.0</td>\n",
       "      <td>NaN</td>\n",
       "      <td>NaN</td>\n",
       "      <td>0.0</td>\n",
       "      <td>0.0</td>\n",
       "      <td>2.0</td>\n",
       "      <td>...</td>\n",
       "      <td>2.0</td>\n",
       "      <td>0.0</td>\n",
       "      <td>2.0</td>\n",
       "      <td>3.0</td>\n",
       "      <td>0.0</td>\n",
       "      <td>2.0</td>\n",
       "      <td>2.0</td>\n",
       "      <td>3.0</td>\n",
       "      <td>2.0</td>\n",
       "      <td>-0.421</td>\n",
       "    </tr>\n",
       "  </tbody>\n",
       "</table>\n",
       "<p>5 rows × 64 columns</p>\n",
       "</div>"
      ],
      "text/plain": [
       "         country  year  v2lgfunds_ord  v2lgamend  v2exhoshog  v2exaphogp  \\\n",
       "216  afghanistan  2005            0.0        0.0         1.0         NaN   \n",
       "217  afghanistan  2006            0.0        0.0         1.0         NaN   \n",
       "218  afghanistan  2007            0.0        0.0         1.0         NaN   \n",
       "219  afghanistan  2008            0.0        0.0         1.0         NaN   \n",
       "220  afghanistan  2009            0.0        0.0         1.0         NaN   \n",
       "\n",
       "     v2exaphos  v2ddlexci  v2ddlexrf  v2ddlexpl  ...  v2eldonate_ord  \\\n",
       "216        NaN        0.0        0.0        2.0  ...             2.0   \n",
       "217        NaN        0.0        0.0        2.0  ...             2.0   \n",
       "218        NaN        0.0        0.0        2.0  ...             2.0   \n",
       "219        NaN        0.0        0.0        2.0  ...             2.0   \n",
       "220        NaN        0.0        0.0        2.0  ...             2.0   \n",
       "\n",
       "     v2elpubfin_ord  v2elembaut_ord  v2elmulpar_ord  v2elvotbuy_ord  \\\n",
       "216             0.0             2.0             3.0             1.0   \n",
       "217             0.0             2.0             NaN             NaN   \n",
       "218             0.0             2.0             NaN             NaN   \n",
       "219             0.0             2.0             NaN             NaN   \n",
       "220             0.0             2.0             3.0             0.0   \n",
       "\n",
       "     v2elfrcamp_ord  v2elfrfair_ord  v2elaccept_ord  v2elasmoff_ord  v2elintim  \n",
       "216             2.0             2.0             3.0             2.0     -0.240  \n",
       "217             NaN             NaN             NaN             NaN        NaN  \n",
       "218             NaN             NaN             NaN             NaN        NaN  \n",
       "219             NaN             NaN             NaN             NaN        NaN  \n",
       "220             2.0             2.0             3.0             2.0     -0.421  \n",
       "\n",
       "[5 rows x 64 columns]"
      ]
     },
     "execution_count": 14,
     "metadata": {},
     "output_type": "execute_result"
    }
   ],
   "source": [
    "ss_vdem.head()"
   ]
  },
  {
   "cell_type": "code",
   "execution_count": 15,
   "metadata": {},
   "outputs": [
    {
     "data": {
      "text/plain": [
       "(2498, 64)"
      ]
     },
     "execution_count": 15,
     "metadata": {},
     "output_type": "execute_result"
    }
   ],
   "source": [
    "ss_vdem.shape"
   ]
  },
  {
   "cell_type": "code",
   "execution_count": 16,
   "metadata": {},
   "outputs": [],
   "source": [
    "ss_vdem['country'].replace({'united states of america': 'united states'}, inplace=True)"
   ]
  },
  {
   "cell_type": "code",
   "execution_count": 17,
   "metadata": {},
   "outputs": [],
   "source": [
    "ss_vdem.to_csv('./cleaned_VDEM.csv', index=False)"
   ]
  },
  {
   "cell_type": "code",
   "execution_count": null,
   "metadata": {},
   "outputs": [],
   "source": []
  }
 ],
 "metadata": {
  "kernelspec": {
   "display_name": "Python 3",
   "language": "python",
   "name": "python3"
  },
  "language_info": {
   "codemirror_mode": {
    "name": "ipython",
    "version": 3
   },
   "file_extension": ".py",
   "mimetype": "text/x-python",
   "name": "python",
   "nbconvert_exporter": "python",
   "pygments_lexer": "ipython3",
   "version": "3.6.8"
  }
 },
 "nbformat": 4,
 "nbformat_minor": 2
}
